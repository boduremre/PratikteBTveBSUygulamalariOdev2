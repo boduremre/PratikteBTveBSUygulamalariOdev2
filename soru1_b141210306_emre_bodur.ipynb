{
 "cells": [
  {
   "cell_type": "code",
   "execution_count": 179,
   "id": "5fad2b31",
   "metadata": {},
   "outputs": [],
   "source": [
    "# @file        : soru1_b141210306_emre_bodur.ipynb\n",
    "# @description : Python dili, \"ScikitLearn\" kütüphanesi ile Makine Öğrenmesi\n",
    "# @course      : Pratikte BT Ve BS Uygulamaları\n",
    "# @assignment  : 2. Proje Ödevi\n",
    "# @date        : 24.05.2021\n",
    "# @author      : Emre Bodur (B141210306)"
   ]
  },
  {
   "cell_type": "code",
   "execution_count": 180,
   "id": "947ea15e",
   "metadata": {},
   "outputs": [],
   "source": [
    "# Proje ile ilgili kütüphaneler dahil ediliyor.\n",
    "from sklearn.tree import DecisionTreeClassifier\n",
    "from sklearn.naive_bayes import GaussianNB\n",
    "from sklearn.model_selection import train_test_split\n",
    "from sklearn.metrics import accuracy_score\n",
    "from sklearn.metrics import confusion_matrix\n",
    "from sklearn.metrics import classification_report\n",
    "import matplotlib.pyplot as plt\n",
    "from sklearn import tree\n",
    "import pandas as pd\n",
    "import joblib"
   ]
  },
  {
   "cell_type": "code",
   "execution_count": 181,
   "id": "99fb38e6",
   "metadata": {},
   "outputs": [],
   "source": [
    "# iris dataseti yükleniyor\n",
    "from sklearn.datasets import load_iris\n",
    "irisData = load_iris()"
   ]
  },
  {
   "cell_type": "code",
   "execution_count": 182,
   "id": "f8d0d0e3",
   "metadata": {},
   "outputs": [],
   "source": [
    "# Projeye veri setinin dahil edilmesinden sonra bağımlı ve bağımsız değişkenleri oluşturmak için aşağıdaki kod satırını yazdım. \n",
    "# Böylece bağımsız nitelikleri X, bağımlı niteliği y değişkenine atadım.\n",
    "X = irisData.data\n",
    "y = irisData.target"
   ]
  },
  {
   "cell_type": "code",
   "execution_count": 183,
   "id": "5f955cad",
   "metadata": {
    "scrolled": true
   },
   "outputs": [
    {
     "data": {
      "text/html": [
       "<div>\n",
       "<style scoped>\n",
       "    .dataframe tbody tr th:only-of-type {\n",
       "        vertical-align: middle;\n",
       "    }\n",
       "\n",
       "    .dataframe tbody tr th {\n",
       "        vertical-align: top;\n",
       "    }\n",
       "\n",
       "    .dataframe thead th {\n",
       "        text-align: right;\n",
       "    }\n",
       "</style>\n",
       "<table border=\"1\" class=\"dataframe\">\n",
       "  <thead>\n",
       "    <tr style=\"text-align: right;\">\n",
       "      <th></th>\n",
       "      <th>sepal length (cm)</th>\n",
       "      <th>sepal width (cm)</th>\n",
       "      <th>petal length (cm)</th>\n",
       "      <th>petal width (cm)</th>\n",
       "    </tr>\n",
       "  </thead>\n",
       "  <tbody>\n",
       "    <tr>\n",
       "      <th>0</th>\n",
       "      <td>5.1</td>\n",
       "      <td>3.5</td>\n",
       "      <td>1.4</td>\n",
       "      <td>0.2</td>\n",
       "    </tr>\n",
       "    <tr>\n",
       "      <th>1</th>\n",
       "      <td>4.9</td>\n",
       "      <td>3.0</td>\n",
       "      <td>1.4</td>\n",
       "      <td>0.2</td>\n",
       "    </tr>\n",
       "    <tr>\n",
       "      <th>2</th>\n",
       "      <td>4.7</td>\n",
       "      <td>3.2</td>\n",
       "      <td>1.3</td>\n",
       "      <td>0.2</td>\n",
       "    </tr>\n",
       "    <tr>\n",
       "      <th>3</th>\n",
       "      <td>4.6</td>\n",
       "      <td>3.1</td>\n",
       "      <td>1.5</td>\n",
       "      <td>0.2</td>\n",
       "    </tr>\n",
       "    <tr>\n",
       "      <th>4</th>\n",
       "      <td>5.0</td>\n",
       "      <td>3.6</td>\n",
       "      <td>1.4</td>\n",
       "      <td>0.2</td>\n",
       "    </tr>\n",
       "  </tbody>\n",
       "</table>\n",
       "</div>"
      ],
      "text/plain": [
       "   sepal length (cm)  sepal width (cm)  petal length (cm)  petal width (cm)\n",
       "0                5.1               3.5                1.4               0.2\n",
       "1                4.9               3.0                1.4               0.2\n",
       "2                4.7               3.2                1.3               0.2\n",
       "3                4.6               3.1                1.5               0.2\n",
       "4                5.0               3.6                1.4               0.2"
      ]
     },
     "execution_count": 183,
     "metadata": {},
     "output_type": "execute_result"
    }
   ],
   "source": [
    "# pandas modülü ile dataframe oluşturuluyor.\n",
    "# iris dataseti içerisindeki ilk 5 kayıt gösteriliyor.\n",
    "data_frame = pd.DataFrame(irisData.data, columns=irisData.feature_names)\n",
    "data_frame.head()"
   ]
  },
  {
   "cell_type": "code",
   "execution_count": 184,
   "id": "762b350f",
   "metadata": {},
   "outputs": [],
   "source": [
    "# Veri seti içerisindeki verileri eğitim ve test veri setleri olarak ayırdım.\n",
    "# Doğru sonuç almak için verinin % 75’i eğitim için, % 25’i ise test için ayrıldı.\n",
    "# test_size değeri değiştirilerek farklı sonuçlar elde edilebilir.\n",
    "X_train, X_test, y_train, y_test = train_test_split(X, y, test_size = 0.25, random_state = 0)"
   ]
  },
  {
   "cell_type": "code",
   "execution_count": 185,
   "id": "15e2ad7f",
   "metadata": {},
   "outputs": [],
   "source": [
    "# BURAYA KADAR TÜM İŞLEMLER ALGORİTMADAN BAĞIMSIZ VE ORTAKTIR. \n",
    "# BU NOKTADAN SONRA SEÇİLEN ALGORİTMAYA GÖRE YORUM SATIRLARINI AÇIP KAPATARAK FARKLI DENEMELER GERÇEKLEŞTİRİLEBİLİR."
   ]
  },
  {
   "cell_type": "code",
   "execution_count": 186,
   "id": "baee062f",
   "metadata": {},
   "outputs": [],
   "source": [
    "# GAUSSIAN NAIVE BAYES ALGORİTMASI ÖRNEĞİ"
   ]
  },
  {
   "cell_type": "code",
   "execution_count": 187,
   "id": "09a55458",
   "metadata": {},
   "outputs": [],
   "source": [
    "# Gaussian Naive Bayes algroritması ile model nesnesi oluşturuyorum. \n",
    "model = GaussianNB()"
   ]
  },
  {
   "cell_type": "code",
   "execution_count": 188,
   "id": "6990743c",
   "metadata": {},
   "outputs": [
    {
     "data": {
      "text/plain": [
       "GaussianNB()"
      ]
     },
     "execution_count": 188,
     "metadata": {},
     "output_type": "execute_result"
    }
   ],
   "source": [
    "# Oluşturduğumuz modeli verilerimiz ile eğitelim.\n",
    "model.fit(X_train, y_train)"
   ]
  },
  {
   "cell_type": "code",
   "execution_count": 189,
   "id": "77ed9ca4",
   "metadata": {},
   "outputs": [],
   "source": [
    "# Modelimizi eğittik.\n",
    "# Uygulamamızda kullanacağımız veri miktarı büyüdüğünde modeli eğitmek zaman alabilir.\n",
    "# Veya başarı oranı her zaman yakalanmayabilir.\n",
    "# Bu nedenle modeli birkez eğittikten sonra kaydederek kayıtlı modelden çalıştırmak faydalı olacaktır.\n",
    "# Eğittiğimiz modeli dosyaya kaydedelim.\n",
    "# Bunun için sklearn tarafından sunulan joblib modülünü kullacağız.\n",
    "#joblib.dump(model, 'egitilmis_model_GaussianNB.joblib')"
   ]
  },
  {
   "cell_type": "code",
   "execution_count": 190,
   "id": "e3f6e417",
   "metadata": {},
   "outputs": [],
   "source": [
    "# Eğittiğimiz modeli dosyadan yükleyelim.\n",
    "# Eğitilen bir modeli kullanacağımız için yukarıdaki model.fit(X_train, y_train) satırını comment satırı yapmalıyız.\n",
    "#model = joblib.load('egitilmis_model_GaussianNB.joblib')"
   ]
  },
  {
   "cell_type": "code",
   "execution_count": 191,
   "id": "5a040a28",
   "metadata": {},
   "outputs": [],
   "source": [
    "# Test Seti ile tahmin yaptım ayırdığım test setimi (X_test) kullanarak oluşturduğum model \n",
    "# ile tahmin yapalım ve elde ettiğimiz set (y_pred) ile hedef değişken (y_test) test setimizi karşılaştıralım.\n",
    "y_pred = model.predict(X_test)"
   ]
  },
  {
   "cell_type": "code",
   "execution_count": 192,
   "id": "c5ff11df",
   "metadata": {},
   "outputs": [],
   "source": [
    "# Eğer tek bir değeri tahmin ettirmek istiyorsak\n",
    "# y_pred = model.predict([[5.8, 2.8, 5.1, 2.4]])"
   ]
  },
  {
   "cell_type": "code",
   "execution_count": 193,
   "id": "047d4f28",
   "metadata": {},
   "outputs": [
    {
     "name": "stdout",
     "output_type": "stream",
     "text": [
      "              precision    recall  f1-score   support\n",
      "\n",
      "           0       1.00      1.00      1.00        13\n",
      "           1       1.00      1.00      1.00        16\n",
      "           2       1.00      1.00      1.00         9\n",
      "\n",
      "    accuracy                           1.00        38\n",
      "   macro avg       1.00      1.00      1.00        38\n",
      "weighted avg       1.00      1.00      1.00        38\n",
      "\n"
     ]
    }
   ],
   "source": [
    "print(classification_report(y_test, y_pred))"
   ]
  },
  {
   "cell_type": "code",
   "execution_count": 194,
   "id": "57d29d56",
   "metadata": {},
   "outputs": [
    {
     "name": "stdout",
     "output_type": "stream",
     "text": [
      "Karmaşıklık Matrisi:\n",
      "['setosa' 'versicolor' 'virginica']\n",
      "[[13  0  0]\n",
      " [ 0 16  0]\n",
      " [ 0  0  9]]\n"
     ]
    }
   ],
   "source": [
    "# Tahmin Sonuçlarını Test Sonuçları ile Karşılaştırma\n",
    "# Hata matrisi (confusion matrix) kullanarak modelin başarısını ölçelim:\n",
    "print('Karmaşıklık Matrisi:')\n",
    "print(irisData.target_names)\n",
    "print(confusion_matrix(y_test, y_pred))\n",
    "\n",
    "# Karmaşıklık Matrisini Yorumlayalım\n",
    "# 38 tane test kaydında Setosa sınıfına ait 13 tane kayıt varmış ve hepsi doğru tahmin edilmiş. \n",
    "# 16 tane versicolor varmış bunların tamamı doğru tahmin edilmiş. \n",
    "# 9 tane virginica varmış ve hepsi de başarıyla virginica olarak tahmin edilmiş."
   ]
  },
  {
   "cell_type": "code",
   "execution_count": 195,
   "id": "bd4a96e4",
   "metadata": {},
   "outputs": [
    {
     "name": "stdout",
     "output_type": "stream",
     "text": [
      "Doğruluk (%) :  100.0\n"
     ]
    }
   ],
   "source": [
    "# Başarı Oranı\n",
    "# Bu örneğimizde modelimiz test_size = 0.25 ile GaussianNB algoritmasını kullanarak %100 oranında başarı ile çalıştı.\n",
    "print (\"Doğruluk (%) : \", 100*accuracy_score(y_test, y_pred))"
   ]
  },
  {
   "cell_type": "code",
   "execution_count": 196,
   "id": "f1c55e8b",
   "metadata": {},
   "outputs": [
    {
     "data": {
      "text/html": [
       "<div>\n",
       "<style scoped>\n",
       "    .dataframe tbody tr th:only-of-type {\n",
       "        vertical-align: middle;\n",
       "    }\n",
       "\n",
       "    .dataframe tbody tr th {\n",
       "        vertical-align: top;\n",
       "    }\n",
       "\n",
       "    .dataframe thead th {\n",
       "        text-align: right;\n",
       "    }\n",
       "</style>\n",
       "<table border=\"1\" class=\"dataframe\">\n",
       "  <thead>\n",
       "    <tr style=\"text-align: right;\">\n",
       "      <th></th>\n",
       "      <th>Gerçek Değerler</th>\n",
       "      <th>Tahmin Edilen Değerler</th>\n",
       "    </tr>\n",
       "  </thead>\n",
       "  <tbody>\n",
       "    <tr>\n",
       "      <th>0</th>\n",
       "      <td>2</td>\n",
       "      <td>2</td>\n",
       "    </tr>\n",
       "    <tr>\n",
       "      <th>1</th>\n",
       "      <td>1</td>\n",
       "      <td>1</td>\n",
       "    </tr>\n",
       "    <tr>\n",
       "      <th>2</th>\n",
       "      <td>0</td>\n",
       "      <td>0</td>\n",
       "    </tr>\n",
       "    <tr>\n",
       "      <th>3</th>\n",
       "      <td>2</td>\n",
       "      <td>2</td>\n",
       "    </tr>\n",
       "    <tr>\n",
       "      <th>4</th>\n",
       "      <td>0</td>\n",
       "      <td>0</td>\n",
       "    </tr>\n",
       "    <tr>\n",
       "      <th>5</th>\n",
       "      <td>2</td>\n",
       "      <td>2</td>\n",
       "    </tr>\n",
       "    <tr>\n",
       "      <th>6</th>\n",
       "      <td>0</td>\n",
       "      <td>0</td>\n",
       "    </tr>\n",
       "    <tr>\n",
       "      <th>7</th>\n",
       "      <td>1</td>\n",
       "      <td>1</td>\n",
       "    </tr>\n",
       "    <tr>\n",
       "      <th>8</th>\n",
       "      <td>1</td>\n",
       "      <td>1</td>\n",
       "    </tr>\n",
       "    <tr>\n",
       "      <th>9</th>\n",
       "      <td>1</td>\n",
       "      <td>1</td>\n",
       "    </tr>\n",
       "    <tr>\n",
       "      <th>10</th>\n",
       "      <td>2</td>\n",
       "      <td>2</td>\n",
       "    </tr>\n",
       "    <tr>\n",
       "      <th>11</th>\n",
       "      <td>1</td>\n",
       "      <td>1</td>\n",
       "    </tr>\n",
       "    <tr>\n",
       "      <th>12</th>\n",
       "      <td>1</td>\n",
       "      <td>1</td>\n",
       "    </tr>\n",
       "    <tr>\n",
       "      <th>13</th>\n",
       "      <td>1</td>\n",
       "      <td>1</td>\n",
       "    </tr>\n",
       "    <tr>\n",
       "      <th>14</th>\n",
       "      <td>1</td>\n",
       "      <td>1</td>\n",
       "    </tr>\n",
       "    <tr>\n",
       "      <th>15</th>\n",
       "      <td>0</td>\n",
       "      <td>0</td>\n",
       "    </tr>\n",
       "    <tr>\n",
       "      <th>16</th>\n",
       "      <td>1</td>\n",
       "      <td>1</td>\n",
       "    </tr>\n",
       "    <tr>\n",
       "      <th>17</th>\n",
       "      <td>1</td>\n",
       "      <td>1</td>\n",
       "    </tr>\n",
       "    <tr>\n",
       "      <th>18</th>\n",
       "      <td>0</td>\n",
       "      <td>0</td>\n",
       "    </tr>\n",
       "    <tr>\n",
       "      <th>19</th>\n",
       "      <td>0</td>\n",
       "      <td>0</td>\n",
       "    </tr>\n",
       "    <tr>\n",
       "      <th>20</th>\n",
       "      <td>2</td>\n",
       "      <td>2</td>\n",
       "    </tr>\n",
       "    <tr>\n",
       "      <th>21</th>\n",
       "      <td>1</td>\n",
       "      <td>1</td>\n",
       "    </tr>\n",
       "    <tr>\n",
       "      <th>22</th>\n",
       "      <td>0</td>\n",
       "      <td>0</td>\n",
       "    </tr>\n",
       "    <tr>\n",
       "      <th>23</th>\n",
       "      <td>0</td>\n",
       "      <td>0</td>\n",
       "    </tr>\n",
       "    <tr>\n",
       "      <th>24</th>\n",
       "      <td>2</td>\n",
       "      <td>2</td>\n",
       "    </tr>\n",
       "    <tr>\n",
       "      <th>25</th>\n",
       "      <td>0</td>\n",
       "      <td>0</td>\n",
       "    </tr>\n",
       "    <tr>\n",
       "      <th>26</th>\n",
       "      <td>0</td>\n",
       "      <td>0</td>\n",
       "    </tr>\n",
       "    <tr>\n",
       "      <th>27</th>\n",
       "      <td>1</td>\n",
       "      <td>1</td>\n",
       "    </tr>\n",
       "    <tr>\n",
       "      <th>28</th>\n",
       "      <td>1</td>\n",
       "      <td>1</td>\n",
       "    </tr>\n",
       "    <tr>\n",
       "      <th>29</th>\n",
       "      <td>0</td>\n",
       "      <td>0</td>\n",
       "    </tr>\n",
       "    <tr>\n",
       "      <th>30</th>\n",
       "      <td>2</td>\n",
       "      <td>2</td>\n",
       "    </tr>\n",
       "    <tr>\n",
       "      <th>31</th>\n",
       "      <td>1</td>\n",
       "      <td>1</td>\n",
       "    </tr>\n",
       "    <tr>\n",
       "      <th>32</th>\n",
       "      <td>0</td>\n",
       "      <td>0</td>\n",
       "    </tr>\n",
       "    <tr>\n",
       "      <th>33</th>\n",
       "      <td>2</td>\n",
       "      <td>2</td>\n",
       "    </tr>\n",
       "    <tr>\n",
       "      <th>34</th>\n",
       "      <td>2</td>\n",
       "      <td>2</td>\n",
       "    </tr>\n",
       "    <tr>\n",
       "      <th>35</th>\n",
       "      <td>1</td>\n",
       "      <td>1</td>\n",
       "    </tr>\n",
       "    <tr>\n",
       "      <th>36</th>\n",
       "      <td>0</td>\n",
       "      <td>0</td>\n",
       "    </tr>\n",
       "    <tr>\n",
       "      <th>37</th>\n",
       "      <td>1</td>\n",
       "      <td>1</td>\n",
       "    </tr>\n",
       "  </tbody>\n",
       "</table>\n",
       "</div>"
      ],
      "text/plain": [
       "    Gerçek Değerler  Tahmin Edilen Değerler\n",
       "0                 2                       2\n",
       "1                 1                       1\n",
       "2                 0                       0\n",
       "3                 2                       2\n",
       "4                 0                       0\n",
       "5                 2                       2\n",
       "6                 0                       0\n",
       "7                 1                       1\n",
       "8                 1                       1\n",
       "9                 1                       1\n",
       "10                2                       2\n",
       "11                1                       1\n",
       "12                1                       1\n",
       "13                1                       1\n",
       "14                1                       1\n",
       "15                0                       0\n",
       "16                1                       1\n",
       "17                1                       1\n",
       "18                0                       0\n",
       "19                0                       0\n",
       "20                2                       2\n",
       "21                1                       1\n",
       "22                0                       0\n",
       "23                0                       0\n",
       "24                2                       2\n",
       "25                0                       0\n",
       "26                0                       0\n",
       "27                1                       1\n",
       "28                1                       1\n",
       "29                0                       0\n",
       "30                2                       2\n",
       "31                1                       1\n",
       "32                0                       0\n",
       "33                2                       2\n",
       "34                2                       2\n",
       "35                1                       1\n",
       "36                0                       0\n",
       "37                1                       1"
      ]
     },
     "execution_count": 196,
     "metadata": {},
     "output_type": "execute_result"
    }
   ],
   "source": [
    "# Gerçek Değerlerin Öngörülen Değerlerle Karşılaştırılması\n",
    "# Bu adımda, hem orijinal Test setinin (y_test) hem de tahmin edilen sonuçların (y_pred) \n",
    "# sınıflandırılmış değerlerini karşılaştırmak için bir Pandas DataFrame oluşturulur.\n",
    "df = pd.DataFrame({'Gerçek Değerler':y_test, 'Tahmin Edilen Değerler':y_pred})\n",
    "df"
   ]
  },
  {
   "cell_type": "code",
   "execution_count": 197,
   "id": "e401b325",
   "metadata": {},
   "outputs": [],
   "source": [
    "# DECISION TREE CLASSIFIER ALGORİTMASI ÖRNEĞİ"
   ]
  },
  {
   "cell_type": "code",
   "execution_count": 198,
   "id": "2a0eabc7",
   "metadata": {},
   "outputs": [],
   "source": [
    "# Karar ağacı algoritması ile bir model nesnesi tanımlayalım.\n",
    "model = DecisionTreeClassifier()"
   ]
  },
  {
   "cell_type": "code",
   "execution_count": 199,
   "id": "6212f594",
   "metadata": {},
   "outputs": [
    {
     "data": {
      "text/plain": [
       "DecisionTreeClassifier()"
      ]
     },
     "execution_count": 199,
     "metadata": {},
     "output_type": "execute_result"
    }
   ],
   "source": [
    "# Oluşturduğumuz modeli verilerimiz ile eğitelim.\n",
    "model.fit(X_train, y_train)"
   ]
  },
  {
   "cell_type": "code",
   "execution_count": 200,
   "id": "2730c963",
   "metadata": {},
   "outputs": [],
   "source": [
    "# Modelimizi eğittik.\n",
    "# Uygulamamızda kullanacağımız veri miktarı büyüdüğünde modeli eğitmek zaman alabilir.\n",
    "# Veya başarı oranı her zaman yakalanmayabilir.\n",
    "# Bu nedenle modeli birkez eğittikten sonra kaydederek kayıtlı modelden çalıştırmak faydalı olacaktır.\n",
    "# Eğittiğimiz modeli dosyaya kaydedelim.\n",
    "# Bunun için sklearn tarafından sunulan joblib modülünü kullacağız.\n",
    "#joblib.dump(model, 'egitilmis_model_DecisionTree.joblib')"
   ]
  },
  {
   "cell_type": "code",
   "execution_count": 201,
   "id": "07c40aac",
   "metadata": {},
   "outputs": [],
   "source": [
    "# Eğittiğimiz modeli dosyadan yükleyelim.\n",
    "# Eğitilen bir modeli kullanacağımı için yukarıdaki model.fit(X_train, y_train) satırını comment satırı yapmalıyız.\n",
    "#model = joblib.load('egitilmis_model_DecisionTree.joblib')"
   ]
  },
  {
   "cell_type": "code",
   "execution_count": 202,
   "id": "8d923d97",
   "metadata": {},
   "outputs": [],
   "source": [
    "# Test Seti ile tahmin yaptım ayırdığım test setimi (X_test) kullanarak oluşturduğum model \n",
    "# ile tahmin yapalım ve elde ettiğimiz set (y_pred) ile hedef değişken (y_test) test setimizi karşılaştıralım.\n",
    "y_pred = model.predict(X_test)"
   ]
  },
  {
   "cell_type": "code",
   "execution_count": 203,
   "id": "cdc1bc28",
   "metadata": {},
   "outputs": [
    {
     "name": "stdout",
     "output_type": "stream",
     "text": [
      "Karmaşıklık Matrisi:\n",
      "['setosa' 'versicolor' 'virginica']\n",
      "[[13  0  0]\n",
      " [ 0 15  1]\n",
      " [ 0  0  9]]\n"
     ]
    }
   ],
   "source": [
    "# Tahmin Sonuçlarını Test Sonuçları ile Karşılaştırma\n",
    "# Hata matrisi (confusion matrix) kullanarak modelin başarısını ölçelim:\n",
    "print('Karmaşıklık Matrisi:')\n",
    "print(irisData.target_names)\n",
    "print(confusion_matrix(y_test, y_pred))\n",
    "\n",
    "# Karmaşıklık Matrisini Yorumlayalım\n",
    "# 38 tane test kaydında Setosa sınıfına ait 13 tane kayıt varmış ve hepsi doğru tahmin edilmiş. \n",
    "# 16 tane versicolor varmış bunların 15 tanesini doğru 1 tanesini ise virginica olarak tahmin edilmiş. \n",
    "# 9 tane virginica varmış ve hepsi de başarıyla virginica olarak tahmin edilmiş."
   ]
  },
  {
   "cell_type": "code",
   "execution_count": 204,
   "id": "62b8991e",
   "metadata": {},
   "outputs": [
    {
     "name": "stdout",
     "output_type": "stream",
     "text": [
      "Doğruluk (%) :  97.36842105263158\n"
     ]
    }
   ],
   "source": [
    "# Başarı Oranı\n",
    "# Bu örneğimizde modelimiz test_size = 0.25 ile DecisionTreeClassifier algoritmasını kullanarak %97 oranında başarı ile çalıştı.\n",
    "print (\"Doğruluk (%) : \", 100*accuracy_score(y_test, y_pred))"
   ]
  },
  {
   "cell_type": "code",
   "execution_count": 205,
   "id": "74a55ab6",
   "metadata": {},
   "outputs": [],
   "source": [
    "# Gerçek Değerlerin Öngörülen Değerlerle Karşılaştırılması\n",
    "# Bu adımda, hem orijinal Test setinin (y_test) hem de tahmin edilen sonuçların (y_pred) \n",
    "# sınıflandırılmış değerlerini karşılaştırmak için bir Pandas DataFrame oluşturulur.\n",
    "#df = pd.DataFrame({'Gerçek Değerler':y_test, 'Tahmin Edilen Değerler':y_pred})\n",
    "#df"
   ]
  },
  {
   "cell_type": "code",
   "execution_count": 206,
   "id": "2ba8967d",
   "metadata": {},
   "outputs": [],
   "source": [
    "# modeli görsel olarak incelemek için ağaç nesnei ile export ediyorum.\n",
    "# dot uzantılı dosyayı Visual Studio Code ile açabiliriz.\n",
    "# Ağacı görüntülemek için joaompinto.vscode-graphviz eklentisi yüklü olmalıdır.\n",
    "tree.export_graphviz(\n",
    "    model, \n",
    "    out_file = 'model_tree.dot', \n",
    "    label = 'all', \n",
    "    filled = True, \n",
    "    rounded = True)"
   ]
  },
  {
   "cell_type": "code",
   "execution_count": 207,
   "id": "90197e3a",
   "metadata": {},
   "outputs": [
    {
     "data": {
      "image/png": "[encoded data removed]",
      "text/plain": [
       "<Figure size 1200x1200 with 1 Axes>"
      ]
     },
     "metadata": {
      "needs_background": "light"
     },
     "output_type": "display_data"
    }
   ],
   "source": [
    "# modeli görsel olarak ekranda gösterelim ve resim olarak kaydedelim.\n",
    "fn=['sepal length (cm)','sepal width (cm)','petal length (cm)','petal width (cm)']\n",
    "cn=['setosa', 'versicolor', 'virginica']\n",
    "fig, axes = plt.subplots(nrows = 1, ncols = 1, figsize = (4,4), dpi=300)\n",
    "tree.plot_tree(model, feature_names = fn, class_names=cn, filled = True);\n",
    "fig.savefig('model_tree.png')"
   ]
  }
 ],
 "metadata": {
  "kernelspec": {
   "display_name": "Python 3",
   "language": "python",
   "name": "python3"
  },
  "language_info": {
   "codemirror_mode": {
    "name": "ipython",
    "version": 3
   },
   "file_extension": ".py",
   "mimetype": "text/x-python",
   "name": "python",
   "nbconvert_exporter": "python",
   "pygments_lexer": "ipython3",
   "version": "3.9.5"
  }
 },
 "nbformat": 4,
 "nbformat_minor": 5
}
