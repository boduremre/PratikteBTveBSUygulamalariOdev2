{
 "cells": [
  {
   "cell_type": "code",
   "execution_count": null,
   "id": "5fad2b31",
   "metadata": {},
   "outputs": [],
   "source": [
    "# @file        : soru1_b141210306_emre_bodur.ipynb\n",
    "# @description : Python dili, \"ScikitLearn\" kütüphanesi ile Makine Öğrenmesi\n",
    "# @course      : Pratikte BT Ve BS Uygulamaları\n",
    "# @assignment  : 2. Proje Ödevi\n",
    "# @date        : 24.05.2021\n",
    "# @author      : Emre Bodur (B141210306)"
   ]
  },
  {
   "cell_type": "code",
   "execution_count": null,
   "id": "947ea15e",
   "metadata": {},
   "outputs": [],
   "source": [
    "# Proje ile ilgili kütüphaneler dahil ediliyor.\n",
    "import pandas\n",
    "from sklearn.tree import DecisionTreeClassifier\n",
    "from sklearn.naive_bayes import GaussianNB\n",
    "from sklearn.model_selection import train_test_split\n",
    "from sklearn.metrics import accuracy_score\n",
    "from sklearn.metrics import confusion_matrix\n",
    "from sklearn import tree\n",
    "import joblib"
   ]
  },
  {
   "cell_type": "code",
   "execution_count": null,
   "id": "f8d0d0e3",
   "metadata": {},
   "outputs": [],
   "source": []
  }
 ],
 "metadata": {
  "kernelspec": {
   "display_name": "Python 3",
   "language": "python",
   "name": "python3"
  },
  "language_info": {
   "codemirror_mode": {
    "name": "ipython",
    "version": 3
   },
   "file_extension": ".py",
   "mimetype": "text/x-python",
   "name": "python",
   "nbconvert_exporter": "python",
   "pygments_lexer": "ipython3",
   "version": "3.9.5"
  }
 },
 "nbformat": 4,
 "nbformat_minor": 5
}
