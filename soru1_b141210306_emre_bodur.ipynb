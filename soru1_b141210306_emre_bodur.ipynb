{
 "cells": [
  {
   "cell_type": "code",
   "execution_count": 90,
   "id": "5fad2b31",
   "metadata": {},
   "outputs": [],
   "source": [
    "# @file        : soru1_b141210306_emre_bodur.ipynb\n",
    "# @description : Python dili, \"ScikitLearn\" kütüphanesi ile Makine Öğrenmesi\n",
    "# @course      : Pratikte BT Ve BS Uygulamaları\n",
    "# @assignment  : 2. Proje Ödevi\n",
    "# @date        : 24.05.2021\n",
    "# @author      : Emre Bodur (B141210306)\n",
    "# @link1       : https://medium.com/@ekrem.hatipoglu/machine-learning-classification-naive-bayes-part-11-4a10cd3452b4\n",
    "# @link2       : https://www.veribilimiokulu.com/naive-bayes-yontemiyle-siniflandirma-classification-with-naive-bayes-python-ile-uygulama  "
   ]
  },
  {
   "cell_type": "code",
   "execution_count": 91,
   "id": "947ea15e",
   "metadata": {},
   "outputs": [],
   "source": [
    "# Proje ile ilgili kütüphaneler dahil ediliyor.\n",
    "from sklearn.tree import DecisionTreeClassifier\n",
    "from sklearn.naive_bayes import GaussianNB\n",
    "from sklearn.model_selection import train_test_split\n",
    "from sklearn.metrics import accuracy_score\n",
    "from sklearn.metrics import confusion_matrix\n",
    "from sklearn import tree\n",
    "import joblib"
   ]
  },
  {
   "cell_type": "code",
   "execution_count": 92,
   "id": "99fb38e6",
   "metadata": {},
   "outputs": [],
   "source": [
    "# iris dataseti yükleniyor\n",
    "from sklearn.datasets import load_digits\n",
    "iris = load_digits()"
   ]
  },
  {
   "cell_type": "code",
   "execution_count": 93,
   "id": "f8d0d0e3",
   "metadata": {},
   "outputs": [],
   "source": [
    "# Projeme veri setinin dahil edilmesinden sonra bağımlı ve bağımsız değişkenleri oluşturmak için aşağıdaki kod satırını yazdım. \n",
    "# Böylece bağımsız nitelikleri X, bağımlı niteliği y değişkenine atadım.\n",
    "X = iris.data\n",
    "y = iris.target"
   ]
  },
  {
   "cell_type": "code",
   "execution_count": 94,
   "id": "762b350f",
   "metadata": {},
   "outputs": [],
   "source": [
    "# Veri seti içerisindeki verileri eğitim ve test veri setleri olarak ayırdım.\n",
    "# Doğru sonuç almak için verinin % 75’i eğitim için, % 25’i ise test için ayrıldı.\n",
    "# test_size değeri değiştirilerek farklı sonuçlar elde edilebilir.\n",
    "X_train, X_test, y_train, y_test = train_test_split(X, y, test_size = 0.25, random_state = 0)"
   ]
  },
  {
   "cell_type": "code",
   "execution_count": 95,
   "id": "09a55458",
   "metadata": {},
   "outputs": [],
   "source": [
    "# Şimdi Naive Bayes Modeli oluşturuyorum. \n",
    "model = GaussianNB()"
   ]
  },
  {
   "cell_type": "code",
   "execution_count": 96,
   "id": "343f5dbe",
   "metadata": {},
   "outputs": [
    {
     "data": {
      "text/plain": [
       "GaussianNB()"
      ]
     },
     "execution_count": 96,
     "metadata": {},
     "output_type": "execute_result"
    }
   ],
   "source": [
    "# Oluşturduğumuz modeli verilerimiz ile eğitelim.\n",
    "model.fit(X_train, y_train)"
   ]
  },
  {
   "cell_type": "code",
   "execution_count": 97,
   "id": "94844569",
   "metadata": {},
   "outputs": [
    {
     "data": {
      "text/plain": [
       "['egitilmis_model.joblib']"
      ]
     },
     "execution_count": 97,
     "metadata": {},
     "output_type": "execute_result"
    }
   ],
   "source": [
    "# Modelimizi eğittik.\n",
    "# Uygulamamızda kullanacağımız veri miktarı büyüdüğünde modeli eğitmek zaman alabilir.\n",
    "# Bu nedenle modeli birkez eğittikten sonra kaydederek kayıtlı modelden çalıştırmak faydalı olacaktır.\n",
    "# Eğittiğimiz modeli dosyaya kaydedelim.\n",
    "# Bunun için sklearn tarafından sunulan joblib modülünü kullacağız.\n",
    "joblib.dump(model, 'egitilmis_model.joblib')"
   ]
  },
  {
   "cell_type": "code",
   "execution_count": 98,
   "id": "aaa8a1f1",
   "metadata": {},
   "outputs": [],
   "source": [
    "# Eğittiğimiz modeli dosyadan yükleyelim.\n",
    "# Eğitilen bir modeli kullanacağımı için yukarıdaki model.fit(X_train, y_train) satırını comment satırı yapmalıyız.\n",
    "model = joblib.load('egitilmis_model.joblib')"
   ]
  },
  {
   "cell_type": "code",
   "execution_count": 99,
   "id": "3d3655ab",
   "metadata": {},
   "outputs": [],
   "source": [
    "# Test Seti ile tahmin yaptım ayırdığım test setimi (X_test) kullanarak oluşturduğum model \n",
    "# ile tahmin yapalım ve elde ettiğimiz set (y_pred) ile hedef değişken (y_test) test setimizi karşılaştıralım.\n",
    "y_pred = model.predict(X_test)"
   ]
  },
  {
   "cell_type": "code",
   "execution_count": 100,
   "id": "289bc62d",
   "metadata": {},
   "outputs": [
    {
     "name": "stdout",
     "output_type": "stream",
     "text": [
      "Karmaşıklık Matrisi:\n",
      "[[37  0  0  0  0  0  0  0  0  0]\n",
      " [ 0 39  0  0  0  0  0  0  4  0]\n",
      " [ 0  7 20  2  0  0  0  0 15  0]\n",
      " [ 0  0  0 39  0  0  0  1  5  0]\n",
      " [ 0  1  0  0 31  0  0  6  0  0]\n",
      " [ 0  1  0  1  0 43  0  3  0  0]\n",
      " [ 0  0  1  0  0  0 51  0  0  0]\n",
      " [ 0  0  0  0  1  0  0 47  0  0]\n",
      " [ 0  6  0  1  0  1  0  2 38  0]\n",
      " [ 0  2  0  4  1  0  0  3  7 30]]\n"
     ]
    }
   ],
   "source": [
    "# Tahmin Sonuçlarını Test Sonuçları ile Karşılaştırma\n",
    "# Hata matrisi (confusion matrix) kullanarak modelin başarısını ölçelim:\n",
    "print('Karmaşıklık Matrisi:')\n",
    "hata_matrisi = confusion_matrix(y_test, y_pred)\n",
    "print(hata_matrisi)"
   ]
  },
  {
   "cell_type": "code",
   "execution_count": 101,
   "id": "89edcefa",
   "metadata": {},
   "outputs": [],
   "source": [
    "# Karmaşıklık Matrisini Yorumlayalım\n",
    "# 38 tane test kaydında Setosa sınıfına ait 13 tane kayıt varmış ve hepsi doğru tahmin edilmiş. \n",
    "# 16 tane versicolor varmış bunların tamamı doğru tahmin edilmiş. \n",
    "# 9 tane virginica varmış ve hepsi de başarıyla virginica olarak tahmin edilmiş."
   ]
  },
  {
   "cell_type": "code",
   "execution_count": 102,
   "id": "3cbc59ea",
   "metadata": {},
   "outputs": [
    {
     "name": "stdout",
     "output_type": "stream",
     "text": [
      "0.8333333333333334\n"
     ]
    }
   ],
   "source": [
    "# Başarı Oranı\n",
    "# Bu örneğimizde test_size = 0.25 ile GaussianNB sınıfını kullanarak 1 oranında bir başarı yakaladık.\n",
    "accuracy = accuracy_score(y_test, y_pred)\n",
    "print(accuracy)"
   ]
  }
 ],
 "metadata": {
  "kernelspec": {
   "display_name": "Python 3",
   "language": "python",
   "name": "python3"
  },
  "language_info": {
   "codemirror_mode": {
    "name": "ipython",
    "version": 3
   },
   "file_extension": ".py",
   "mimetype": "text/x-python",
   "name": "python",
   "nbconvert_exporter": "python",
   "pygments_lexer": "ipython3",
   "version": "3.9.5"
  }
 },
 "nbformat": 4,
 "nbformat_minor": 5
}
