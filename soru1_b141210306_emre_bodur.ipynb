{
 "cells": [
  {
   "cell_type": "code",
   "execution_count": null,
   "id": "5fad2b31",
   "metadata": {},
   "outputs": [],
   "source": [
    "# @file        : soru1_b141210306_emre_bodur.ipynb\n",
    "# @description : Python dili, \"ScikitLearn\" kütüphanesi ile Makine Öğrenmesi\n",
    "# @course      : Pratikte BT Ve BS Uygulamaları\n",
    "# @assignment  : 2. Proje Ödevi\n",
    "# @date        : 24.05.2021\n",
    "# @author      : Emre Bodur (B141210306)"
   ]
  },
  {
   "cell_type": "code",
   "execution_count": null,
   "id": "947ea15e",
   "metadata": {},
   "outputs": [],
   "source": [
    "# Proje ile ilgili kütüphaneler dahil ediliyor.\n",
    "from sklearn.tree import DecisionTreeClassifier\n",
    "from sklearn.naive_bayes import GaussianNB\n",
    "from sklearn.model_selection import train_test_split\n",
    "from sklearn.metrics import accuracy_score\n",
    "from sklearn.metrics import confusion_matrix\n",
    "import matplotlib.pyplot as plt\n",
    "from sklearn import tree\n",
    "import pandas as pd\n",
    "import joblib"
   ]
  },
  {
   "cell_type": "code",
   "execution_count": null,
   "id": "99fb38e6",
   "metadata": {},
   "outputs": [],
   "source": [
    "# iris dataseti yükleniyor\n",
    "from sklearn.datasets import load_iris\n",
    "irisData = load_iris()"
   ]
  },
  {
   "cell_type": "code",
   "execution_count": null,
   "id": "f8d0d0e3",
   "metadata": {},
   "outputs": [],
   "source": [
    "# Projeye veri setinin dahil edilmesinden sonra bağımlı ve bağımsız değişkenleri oluşturmak için aşağıdaki kod satırını yazdım. \n",
    "# Böylece bağımsız nitelikleri X, bağımlı niteliği y değişkenine atadım.\n",
    "X = irisData.data\n",
    "y = irisData.target"
   ]
  },
  {
   "cell_type": "code",
   "execution_count": null,
   "id": "5f955cad",
   "metadata": {
    "scrolled": true
   },
   "outputs": [],
   "source": [
    "# pandas modülü ile dataframe oluşturuluyor.\n",
    "# iris dataseti içerisindeki ilk 5 kayıt gösteriliyor.\n",
    "data_frame = pd.DataFrame(irisData.data, columns=irisData.feature_names)\n",
    "data_frame.head()"
   ]
  },
  {
   "cell_type": "code",
   "execution_count": null,
   "id": "762b350f",
   "metadata": {},
   "outputs": [],
   "source": [
    "# Veri seti içerisindeki verileri eğitim ve test veri setleri olarak ayırdım.\n",
    "# Doğru sonuç almak için verinin % 75’i eğitim için, % 25’i ise test için ayrıldı.\n",
    "# test_size değeri değiştirilerek farklı sonuçlar elde edilebilir.\n",
    "X_train, X_test, y_train, y_test = train_test_split(X, y, test_size = 0.25, random_state = 0)"
   ]
  },
  {
   "cell_type": "code",
   "execution_count": null,
   "id": "15e2ad7f",
   "metadata": {},
   "outputs": [],
   "source": [
    "# BURAYA KADAR TÜM İŞLEMLER ALGORİTMADAN BAĞIMSIZ VE ORTAKTIR. \n",
    "# BU NOKTADAN SONRA SEÇİLEN ALGORİTMAYA GÖRE YORUM SATIRLARINI AÇIP KAPATARAK FARKLI DENEMELER GERÇEKLEŞTİRİLEBİLİR."
   ]
  },
  {
   "cell_type": "code",
   "execution_count": null,
   "id": "baee062f",
   "metadata": {},
   "outputs": [],
   "source": [
    "# GAUSSIAN NAIVE BAYES ALGORİTMASI ÖRNEĞİ"
   ]
  },
  {
   "cell_type": "code",
   "execution_count": null,
   "id": "09a55458",
   "metadata": {},
   "outputs": [],
   "source": [
    "# Gaussian Naive Bayes algroritması ile model nesnesi oluşturuyorum. \n",
    "model = GaussianNB()"
   ]
  },
  {
   "cell_type": "code",
   "execution_count": null,
   "id": "6990743c",
   "metadata": {},
   "outputs": [],
   "source": [
    "# Oluşturduğumuz modeli verilerimiz ile eğitelim.\n",
    "model.fit(X_train, y_train)"
   ]
  },
  {
   "cell_type": "code",
   "execution_count": null,
   "id": "77ed9ca4",
   "metadata": {},
   "outputs": [],
   "source": [
    "# Modelimizi eğittik.\n",
    "# Uygulamamızda kullanacağımız veri miktarı büyüdüğünde modeli eğitmek zaman alabilir.\n",
    "# Veya başarı oranı her zaman yakalanmayabilir.\n",
    "# Bu nedenle modeli birkez eğittikten sonra kaydederek kayıtlı modelden çalıştırmak faydalı olacaktır.\n",
    "# Eğittiğimiz modeli dosyaya kaydedelim.\n",
    "# Bunun için sklearn tarafından sunulan joblib modülünü kullacağız.\n",
    "#joblib.dump(model, 'egitilmis_model_GaussianNB.joblib')"
   ]
  },
  {
   "cell_type": "code",
   "execution_count": null,
   "id": "e3f6e417",
   "metadata": {},
   "outputs": [],
   "source": [
    "# Eğittiğimiz modeli dosyadan yükleyelim.\n",
    "# Eğitilen bir modeli kullanacağımız için yukarıdaki model.fit(X_train, y_train) satırını comment satırı yapmalıyız.\n",
    "#model = joblib.load('egitilmis_model_GaussianNB.joblib')"
   ]
  },
  {
   "cell_type": "code",
   "execution_count": null,
   "id": "5a040a28",
   "metadata": {},
   "outputs": [],
   "source": [
    "# Test Seti ile tahmin yaptım ayırdığım test setimi (X_test) kullanarak oluşturduğum model \n",
    "# ile tahmin yapalım ve elde ettiğimiz set (y_pred) ile hedef değişken (y_test) test setimizi karşılaştıralım.\n",
    "y_pred = model.predict(X_test)"
   ]
  },
  {
   "cell_type": "code",
   "execution_count": null,
   "id": "57d29d56",
   "metadata": {},
   "outputs": [],
   "source": [
    "# Tahmin Sonuçlarını Test Sonuçları ile Karşılaştırma\n",
    "# Hata matrisi (confusion matrix) kullanarak modelin başarısını ölçelim:\n",
    "print('Karmaşıklık Matrisi:')\n",
    "print(irisData.target_names)\n",
    "print(confusion_matrix(y_test, y_pred))\n",
    "\n",
    "# Karmaşıklık Matrisini Yorumlayalım\n",
    "# 38 tane test kaydında Setosa sınıfına ait 13 tane kayıt varmış ve hepsi doğru tahmin edilmiş. \n",
    "# 16 tane versicolor varmış bunların tamamı doğru tahmin edilmiş. \n",
    "# 9 tane virginica varmış ve hepsi de başarıyla virginica olarak tahmin edilmiş."
   ]
  },
  {
   "cell_type": "code",
   "execution_count": null,
   "id": "bd4a96e4",
   "metadata": {},
   "outputs": [],
   "source": [
    "# Başarı Oranı\n",
    "# Bu örneğimizde modelimiz test_size = 0.25 ile GaussianNB algoritmasını kullanarak %100 oranında başarı ile çalıştı.\n",
    "print (\"Doğruluk (%) : \", 100*accuracy_score(y_test, y_pred))"
   ]
  },
  {
   "cell_type": "code",
   "execution_count": null,
   "id": "f1c55e8b",
   "metadata": {},
   "outputs": [],
   "source": [
    "# Gerçek Değerlerin Öngörülen Değerlerle Karşılaştırılması\n",
    "# Bu adımda, hem orijinal Test setinin (y_test) hem de tahmin edilen sonuçların (y_pred) \n",
    "# sınıflandırılmış değerlerini karşılaştırmak için bir Pandas DataFrame oluşturulur.\n",
    "df = pd.DataFrame({'Gerçek Değerler':y_test, 'Tahmin Edilen Değerler':y_pred})\n",
    "df"
   ]
  },
  {
   "cell_type": "code",
   "execution_count": null,
   "id": "5a2a1ad7",
   "metadata": {},
   "outputs": [],
   "source": [
    "# Sonuçların Görselleştirilmesi\n",
    "plt.figure(2, figsize=(8, 6))\n",
    "plt.clf()\n",
    "\n",
    "# Eğitim noktalarını belirleyin\n",
    "plt.scatter(X[:, 0], X[:, 1], c=y, cmap=plt.cm.Set1, edgecolor='k')\n",
    "plt.xlabel('Sepal length')\n",
    "plt.ylabel('Sepal width')\n",
    "\n",
    "plt.xticks(())\n",
    "plt.yticks(())"
   ]
  },
  {
   "cell_type": "code",
   "execution_count": null,
   "id": "e401b325",
   "metadata": {},
   "outputs": [],
   "source": [
    "# DECISION TREE CLASSIFIER ALGORİTMASI ÖRNEĞİ"
   ]
  },
  {
   "cell_type": "code",
   "execution_count": null,
   "id": "2a0eabc7",
   "metadata": {},
   "outputs": [],
   "source": [
    "# Karar ağacı algoritması ile bir model nesnesi tanımlayalım.\n",
    "model = DecisionTreeClassifier()"
   ]
  },
  {
   "cell_type": "code",
   "execution_count": null,
   "id": "6212f594",
   "metadata": {},
   "outputs": [],
   "source": [
    "# Oluşturduğumuz modeli verilerimiz ile eğitelim.\n",
    "model.fit(X_train, y_train)"
   ]
  },
  {
   "cell_type": "code",
   "execution_count": null,
   "id": "2730c963",
   "metadata": {},
   "outputs": [],
   "source": [
    "# Modelimizi eğittik.\n",
    "# Uygulamamızda kullanacağımız veri miktarı büyüdüğünde modeli eğitmek zaman alabilir.\n",
    "# Veya başarı oranı her zaman yakalanmayabilir.\n",
    "# Bu nedenle modeli birkez eğittikten sonra kaydederek kayıtlı modelden çalıştırmak faydalı olacaktır.\n",
    "# Eğittiğimiz modeli dosyaya kaydedelim.\n",
    "# Bunun için sklearn tarafından sunulan joblib modülünü kullacağız.\n",
    "#joblib.dump(model, 'egitilmis_model_DecisionTree.joblib')"
   ]
  },
  {
   "cell_type": "code",
   "execution_count": null,
   "id": "07c40aac",
   "metadata": {},
   "outputs": [],
   "source": [
    "# Eğittiğimiz modeli dosyadan yükleyelim.\n",
    "# Eğitilen bir modeli kullanacağımı için yukarıdaki model.fit(X_train, y_train) satırını comment satırı yapmalıyız.\n",
    "#model = joblib.load('egitilmis_model_DecisionTree.joblib')"
   ]
  },
  {
   "cell_type": "code",
   "execution_count": null,
   "id": "8d923d97",
   "metadata": {},
   "outputs": [],
   "source": [
    "# Test Seti ile tahmin yaptım ayırdığım test setimi (X_test) kullanarak oluşturduğum model \n",
    "# ile tahmin yapalım ve elde ettiğimiz set (y_pred) ile hedef değişken (y_test) test setimizi karşılaştıralım.\n",
    "y_pred = model.predict(X_test)"
   ]
  },
  {
   "cell_type": "code",
   "execution_count": null,
   "id": "cdc1bc28",
   "metadata": {},
   "outputs": [],
   "source": [
    "# Tahmin Sonuçlarını Test Sonuçları ile Karşılaştırma\n",
    "# Hata matrisi (confusion matrix) kullanarak modelin başarısını ölçelim:\n",
    "print('Karmaşıklık Matrisi:')\n",
    "print(irisData.target_names)\n",
    "print(confusion_matrix(y_test, y_pred))\n",
    "\n",
    "# Karmaşıklık Matrisini Yorumlayalım\n",
    "# 38 tane test kaydında Setosa sınıfına ait 13 tane kayıt varmış ve hepsi doğru tahmin edilmiş. \n",
    "# 16 tane versicolor varmış bunların 15 tanesini doğru 1 tanesini ise virginica olarak tahmin edilmiş. \n",
    "# 9 tane virginica varmış ve hepsi de başarıyla virginica olarak tahmin edilmiş."
   ]
  },
  {
   "cell_type": "code",
   "execution_count": null,
   "id": "62b8991e",
   "metadata": {},
   "outputs": [],
   "source": [
    "# Başarı Oranı\n",
    "# Bu örneğimizde modelimiz test_size = 0.25 ile DecisionTreeClassifier algoritmasını kullanarak %97 oranında başarı ile çalıştı.\n",
    "print (\"Doğruluk (%) : \", 100*accuracy_score(y_test, y_pred))"
   ]
  },
  {
   "cell_type": "code",
   "execution_count": null,
   "id": "74a55ab6",
   "metadata": {},
   "outputs": [],
   "source": [
    "# Gerçek Değerlerin Öngörülen Değerlerle Karşılaştırılması\n",
    "# Bu adımda, hem orijinal Test setinin (y_test) hem de tahmin edilen sonuçların (y_pred) \n",
    "# sınıflandırılmış değerlerini karşılaştırmak için bir Pandas DataFrame oluşturulur.\n",
    "#df = pd.DataFrame({'Gerçek Değerler':y_test, 'Tahmin Edilen Değerler':y_pred})\n",
    "#df"
   ]
  },
  {
   "cell_type": "code",
   "execution_count": null,
   "id": "2ba8967d",
   "metadata": {},
   "outputs": [],
   "source": [
    "# modeli görsel olarak incelemek için ağaç nesnei ile export ediyorum.\n",
    "# dot uzantılı dosyayı Visual Studio Code ile açabiliriz.\n",
    "# Ağacı görüntülemek için joaompinto.vscode-graphviz eklentisi yüklü olmalıdır.\n",
    "tree.export_graphviz(\n",
    "    model, \n",
    "    out_file = 'model_tree.dot', \n",
    "    label = 'all', \n",
    "    filled = True, \n",
    "    rounded = True)"
   ]
  },
  {
   "cell_type": "code",
   "execution_count": null,
   "id": "90197e3a",
   "metadata": {},
   "outputs": [],
   "source": [
    "# modeli görsel olarak ekranda gösterelim ve resim olarak kaydedelim.\n",
    "fn=['sepal length (cm)','sepal width (cm)','petal length (cm)','petal width (cm)']\n",
    "cn=['setosa', 'versicolor', 'virginica']\n",
    "fig, axes = plt.subplots(nrows = 1, ncols = 1, figsize = (4,4), dpi=300)\n",
    "tree.plot_tree(model, feature_names = fn, class_names=cn, filled = True);\n",
    "fig.savefig('model_tree.png')"
   ]
  }
 ],
 "metadata": {
  "kernelspec": {
   "display_name": "Python 3",
   "language": "python",
   "name": "python3"
  },
  "language_info": {
   "codemirror_mode": {
    "name": "ipython",
    "version": 3
   },
   "file_extension": ".py",
   "mimetype": "text/x-python",
   "name": "python",
   "nbconvert_exporter": "python",
   "pygments_lexer": "ipython3",
   "version": "3.9.5"
  }
 },
 "nbformat": 4,
 "nbformat_minor": 5
}
