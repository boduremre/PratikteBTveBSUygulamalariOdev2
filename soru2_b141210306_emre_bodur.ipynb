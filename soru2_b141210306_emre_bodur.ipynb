{
 "cells": [
  {
   "cell_type": "code",
   "execution_count": null,
   "id": "67515e49",
   "metadata": {},
   "outputs": [],
   "source": [
    "# https://www.tensorflow.org/tutorials/keras/classification\n",
    "# TensorFlow and tf.keras\n",
    "import tensorflow as tf\n",
    "\n",
    "# Helper libraries\n",
    "import numpy as np\n",
    "import matplotlib.pyplot as plt\n",
    "\n",
    "print(tf.__version__)"
   ]
  },
  {
   "cell_type": "code",
   "execution_count": null,
   "id": "1c6d2165",
   "metadata": {},
   "outputs": [],
   "source": [
    "#Fashion MNIST veri kümesini içe aktar\n",
    "fashion_mnist = tf.keras.datasets.fashion_mnist\n",
    "(train_images, train_labels), (test_images, test_labels) = fashion_mnist.load_data()"
   ]
  },
  {
   "cell_type": "code",
   "execution_count": null,
   "id": "0fd54969",
   "metadata": {},
   "outputs": [],
   "source": [
    "#Her görüntü tek bir etiketle eşleştirilir. \n",
    "#Sınıf adları veri kümesine dahil edilmediğinden, daha sonra görüntüleri çizerken kullanmak için class_names değişkenine atadım.\n",
    "class_names = ['T-shirt/top', 'Trouser', 'Pullover', 'Dress', 'Coat', 'Sandal', 'Shirt', 'Sneaker', 'Bag', 'Ankle boot']"
   ]
  },
  {
   "cell_type": "code",
   "execution_count": null,
   "id": "59577c83",
   "metadata": {},
   "outputs": [],
   "source": [
    "#veri sayılarını getir.\n",
    "#eğitim setinde her bir görüntünün 28 x 28 piksel olarak temsil edildiği 60.000 görüntü bulunmaktedır.\n",
    "train_images.shape"
   ]
  },
  {
   "cell_type": "code",
   "execution_count": null,
   "id": "5111fd68",
   "metadata": {},
   "outputs": [],
   "source": [
    "# test veri seti bilgilerini getir.\n",
    "# test veri setinde 10000 adet 28x28 piksel ebatlarında görüntü bulunmaktadır.\n",
    "test_images.shape"
   ]
  },
  {
   "cell_type": "code",
   "execution_count": null,
   "id": "16992bcb",
   "metadata": {},
   "outputs": [],
   "source": [
    "#Verileri önceden işleyin\n",
    "#Ağı eğitmeden önce veriler önceden işlenmelidir. \n",
    "#Eğitim setindeki 90. resmi incelerseniz, piksel değerlerinin 0 ile 255 aralığında olduğunu göreceksiniz:\n",
    "plt.figure()\n",
    "plt.imshow(train_images[90])\n",
    "plt.colorbar()\n",
    "plt.grid(False)\n",
    "plt.show()"
   ]
  },
  {
   "cell_type": "code",
   "execution_count": null,
   "id": "4166550b",
   "metadata": {},
   "outputs": [],
   "source": [
    "#Bu değerleri sinir ağı modeline beslemeden önce 0 ila 1 aralığında ölçeklendirin. Bunu yapmak için değerleri 255'e bölün. \n",
    "#Eğitim seti ve test setinin aynı şekilde ön işlemden geçirilmesi önemlidir:\n",
    "train_images = train_images / 255.0\n",
    "test_images = test_images / 255.0"
   ]
  },
  {
   "cell_type": "code",
   "execution_count": null,
   "id": "f7d8f9c0",
   "metadata": {},
   "outputs": [],
   "source": [
    "# Verilerin doğru biçimde olduğunu ve ağı kurmaya ve eğitmeye hazır olduğunuzu doğrulamak için eğitim setinden \n",
    "# ilk 25 görüntüyü gösterelim ve her görüntünün altında sınıf adını gösterelim.\n",
    "plt.figure(figsize=(10,10))\n",
    "for i in range(25):\n",
    "    plt.subplot(5,5,i+1)\n",
    "    plt.xticks([])\n",
    "    plt.yticks([])\n",
    "    plt.grid(False)\n",
    "    plt.imshow(train_images[i], cmap=plt.cm.binary)\n",
    "    plt.xlabel(class_names[train_labels[i]])\n",
    "plt.show()"
   ]
  },
  {
   "cell_type": "code",
   "execution_count": null,
   "id": "89cb1966",
   "metadata": {},
   "outputs": [],
   "source": [
    "#Modeli oluşturalım\n",
    "#Sinir ağını oluşturmak, modelin katmanlarını yapılandırmayı ve ardından modeli derlemeyi gerektirir.\n",
    "model = tf.keras.Sequential([\n",
    "    tf.keras.layers.Flatten(input_shape=(28, 28)),\n",
    "    tf.keras.layers.Dense(128, activation='relu'),\n",
    "    tf.keras.layers.Dense(10)\n",
    "])"
   ]
  },
  {
   "cell_type": "code",
   "execution_count": null,
   "id": "980e9804",
   "metadata": {},
   "outputs": [],
   "source": [
    "# model derleniyor\n",
    "model.compile(optimizer='adam',\n",
    "              loss=tf.keras.losses.SparseCategoricalCrossentropy(from_logits=True),\n",
    "              metrics=['accuracy'])"
   ]
  },
  {
   "cell_type": "code",
   "execution_count": null,
   "id": "1a69b6a0",
   "metadata": {},
   "outputs": [],
   "source": [
    "# model eğitiliyor\n",
    "model.fit(train_images, train_labels, epochs=10)"
   ]
  },
  {
   "cell_type": "code",
   "execution_count": null,
   "id": "022dce48",
   "metadata": {},
   "outputs": [],
   "source": [
    "# Doğruluğu değerlendir\n",
    "# modelin eğitilmesinin ardından, modelin test veri kümesinde nasıl performans gösterdiğini karşılaştır\n",
    "test_loss, test_acc = model.evaluate(test_images,  test_labels, verbose=2)\n",
    "print('\\nTest accuracy:', test_acc)"
   ]
  },
  {
   "cell_type": "code",
   "execution_count": null,
   "id": "37df5200",
   "metadata": {},
   "outputs": [],
   "source": [
    "# Test veri setindeki doğruluğun, eğitim veri setindeki doğruluktan biraz daha az olduğu ortaya çıktı. \n",
    "# Eğitim doğruluğu ve test doğruluğu arasındaki bu boşluk, aşırı uyumu temsil eder. \n",
    "# Aşırı uyum, bir makine öğrenimi modelinin yeni, daha önce görülmemiş girdilerde \n",
    "# eğitim verilerinde olduğundan daha kötü performans göstermesi durumunda meydana gelir. \n",
    "# Aşırı uyumlu bir model, eğitim veri setindeki gürültüyü ve ayrıntıları, \n",
    "#modelin performansını yeni veriler üzerinde olumsuz olarak etkileyecek bir noktaya kadar \"ezberler\"."
   ]
  }
 ],
 "metadata": {
  "kernelspec": {
   "display_name": "Python 3",
   "language": "python",
   "name": "python3"
  },
  "language_info": {
   "codemirror_mode": {
    "name": "ipython",
    "version": 3
   },
   "file_extension": ".py",
   "mimetype": "text/x-python",
   "name": "python",
   "nbconvert_exporter": "python",
   "pygments_lexer": "ipython3",
   "version": "3.9.5"
  }
 },
 "nbformat": 4,
 "nbformat_minor": 5
}
