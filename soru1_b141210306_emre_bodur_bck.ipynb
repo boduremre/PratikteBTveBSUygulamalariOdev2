{
 "cells": [
  {
   "cell_type": "code",
   "execution_count": 385,
   "id": "5fad2b31",
   "metadata": {},
   "outputs": [],
   "source": [
    "# @file        : soru1_b141210306_emre_bodur.ipynb\n",
    "# @description : Python dili, \"ScikitLearn\" kütüphanesi ile Makine Öğrenmesi\n",
    "# @course      : Pratikte BT Ve BS Uygulamaları\n",
    "# @assignment  : 2. Proje Ödevi\n",
    "# @date        : 24.05.2021\n",
    "# @author      : Emre Bodur (B141210306)\n",
    "# @link1       : https://medium.com/@ekrem.hatipoglu/machine-learning-classification-naive-bayes-part-11-4a10cd3452b4\n",
    "# @link2       : https://www.veribilimiokulu.com/naive-bayes-yontemiyle-siniflandirma-classification-with-naive-bayes-python-ile-uygulama  \n",
    "# @link3       : https://yapayakademi.com/makine-ogrenmesi-siniflandirma-baslangic-seviyesi\n",
    "# @link4       : https://www.kaggle.com/sixteenpython/machine-learning-with-iris-dataset\n",
    "# @link5       : https://qastack.info.tr/programming/38105539/how-to-convert-a-scikit-learn-dataset-to-a-pandas-dataset"
   ]
  },
  {
   "cell_type": "code",
   "execution_count": 386,
   "id": "947ea15e",
   "metadata": {},
   "outputs": [],
   "source": [
    "# Proje ile ilgili kütüphaneler dahil ediliyor.\n",
    "from sklearn.tree import DecisionTreeClassifier\n",
    "from sklearn.naive_bayes import GaussianNB\n",
    "from sklearn.model_selection import train_test_split\n",
    "from sklearn.metrics import accuracy_score\n",
    "from sklearn.metrics import confusion_matrix\n",
    "import matplotlib.pyplot as plt\n",
    "from sklearn import tree\n",
    "import pandas as pd\n",
    "import joblib"
   ]
  },
  {
   "cell_type": "code",
   "execution_count": 387,
   "id": "99fb38e6",
   "metadata": {},
   "outputs": [],
   "source": [
    "# iris dataseti yükleniyor\n",
    "from sklearn.datasets import load_iris\n",
    "irisData = load_iris()"
   ]
  },
  {
   "cell_type": "code",
   "execution_count": 388,
   "id": "f8d0d0e3",
   "metadata": {},
   "outputs": [],
   "source": [
    "# Projeye veri setinin dahil edilmesinden sonra bağımlı ve bağımsız değişkenleri oluşturmak için aşağıdaki kod satırını yazdım. \n",
    "# Böylece bağımsız nitelikleri X, bağımlı niteliği y değişkenine atadım.\n",
    "X = irisData.data\n",
    "y = irisData.target"
   ]
  },
  {
   "cell_type": "code",
   "execution_count": 389,
   "id": "48f0c95f",
   "metadata": {
    "scrolled": true
   },
   "outputs": [
    {
     "data": {
      "text/html": [
       "<div>\n",
       "<style scoped>\n",
       "    .dataframe tbody tr th:only-of-type {\n",
       "        vertical-align: middle;\n",
       "    }\n",
       "\n",
       "    .dataframe tbody tr th {\n",
       "        vertical-align: top;\n",
       "    }\n",
       "\n",
       "    .dataframe thead th {\n",
       "        text-align: right;\n",
       "    }\n",
       "</style>\n",
       "<table border=\"1\" class=\"dataframe\">\n",
       "  <thead>\n",
       "    <tr style=\"text-align: right;\">\n",
       "      <th></th>\n",
       "      <th>sepal length (cm)</th>\n",
       "      <th>sepal width (cm)</th>\n",
       "      <th>petal length (cm)</th>\n",
       "      <th>petal width (cm)</th>\n",
       "    </tr>\n",
       "  </thead>\n",
       "  <tbody>\n",
       "    <tr>\n",
       "      <th>0</th>\n",
       "      <td>5.1</td>\n",
       "      <td>3.5</td>\n",
       "      <td>1.4</td>\n",
       "      <td>0.2</td>\n",
       "    </tr>\n",
       "    <tr>\n",
       "      <th>1</th>\n",
       "      <td>4.9</td>\n",
       "      <td>3.0</td>\n",
       "      <td>1.4</td>\n",
       "      <td>0.2</td>\n",
       "    </tr>\n",
       "    <tr>\n",
       "      <th>2</th>\n",
       "      <td>4.7</td>\n",
       "      <td>3.2</td>\n",
       "      <td>1.3</td>\n",
       "      <td>0.2</td>\n",
       "    </tr>\n",
       "    <tr>\n",
       "      <th>3</th>\n",
       "      <td>4.6</td>\n",
       "      <td>3.1</td>\n",
       "      <td>1.5</td>\n",
       "      <td>0.2</td>\n",
       "    </tr>\n",
       "    <tr>\n",
       "      <th>4</th>\n",
       "      <td>5.0</td>\n",
       "      <td>3.6</td>\n",
       "      <td>1.4</td>\n",
       "      <td>0.2</td>\n",
       "    </tr>\n",
       "  </tbody>\n",
       "</table>\n",
       "</div>"
      ],
      "text/plain": [
       "   sepal length (cm)  sepal width (cm)  petal length (cm)  petal width (cm)\n",
       "0                5.1               3.5                1.4               0.2\n",
       "1                4.9               3.0                1.4               0.2\n",
       "2                4.7               3.2                1.3               0.2\n",
       "3                4.6               3.1                1.5               0.2\n",
       "4                5.0               3.6                1.4               0.2"
      ]
     },
     "execution_count": 389,
     "metadata": {},
     "output_type": "execute_result"
    }
   ],
   "source": [
    "# pandas modülü ile dataframe oluşturuluyor.\n",
    "# iris dataseti içerisindeki ilk 5 kayıt gösteriliyor.\n",
    "data_frame = pd.DataFrame(irisData.data, columns=irisData.feature_names)\n",
    "data_frame.head()"
   ]
  },
  {
   "cell_type": "code",
   "execution_count": 390,
   "id": "4428786d",
   "metadata": {},
   "outputs": [
    {
     "name": "stdout",
     "output_type": "stream",
     "text": [
      "['sepal length (cm)', 'sepal width (cm)', 'petal length (cm)', 'petal width (cm)']\n"
     ]
    }
   ],
   "source": [
    "print(irisData.feature_names)"
   ]
  },
  {
   "cell_type": "code",
   "execution_count": 391,
   "id": "762b350f",
   "metadata": {},
   "outputs": [],
   "source": [
    "# Veri seti içerisindeki verileri eğitim ve test veri setleri olarak ayırdım.\n",
    "# Doğru sonuç almak için verinin % 75’i eğitim için, % 25’i ise test için ayrıldı.\n",
    "# test_size değeri değiştirilerek farklı sonuçlar elde edilebilir.\n",
    "X_train, X_test, y_train, y_test = train_test_split(X, y, test_size = 0.25, random_state = 0)"
   ]
  },
  {
   "cell_type": "code",
   "execution_count": 392,
   "id": "9ee1591f",
   "metadata": {},
   "outputs": [],
   "source": [
    "# BURAYA KADAR TÜM İŞLEMLER ALGORİTMADAN BAĞIMSIZ VE ORTAKTIR. \n",
    "# BU NOKTADAN SONRA SEÇİLEN ALGORİTMAYA GÖRE YORUM SATIRLARINI AÇIP KAPATARAK FARKLI DENEMELER GERÇEKLEŞTİRİLEBİLİR."
   ]
  },
  {
   "cell_type": "code",
   "execution_count": 393,
   "id": "09a55458",
   "metadata": {},
   "outputs": [],
   "source": [
    "# Gaussian Naive Bayes algroritması ile model nesnesi oluşturuyorum. \n",
    "model = GaussianNB()"
   ]
  },
  {
   "cell_type": "code",
   "execution_count": 394,
   "id": "d158c3dc",
   "metadata": {},
   "outputs": [],
   "source": [
    "# Karar ağacı algoritması ile bir model nesnesi tanımlayalım.\n",
    "# model = GaussianNB() bulunduğu satır comment yapılmalıdır.\n",
    "# model = DecisionTreeClassifier()"
   ]
  },
  {
   "cell_type": "code",
   "execution_count": 395,
   "id": "343f5dbe",
   "metadata": {},
   "outputs": [],
   "source": [
    "# Oluşturduğumuz modeli verilerimiz ile eğitelim.\n",
    "#model.fit(X_train, y_train)"
   ]
  },
  {
   "cell_type": "code",
   "execution_count": 396,
   "id": "94844569",
   "metadata": {},
   "outputs": [],
   "source": [
    "# Modelimizi eğittik.\n",
    "# Uygulamamızda kullanacağımız veri miktarı büyüdüğünde modeli eğitmek zaman alabilir.\n",
    "# Veya başarı oranı her zaman yakalanmayabilir.\n",
    "# Bu nedenle modeli birkez eğittikten sonra kaydederek kayıtlı modelden çalıştırmak faydalı olacaktır.\n",
    "# Eğittiğimiz modeli dosyaya kaydedelim.\n",
    "# Bunun için sklearn tarafından sunulan joblib modülünü kullacağız.\n",
    "# Hangi algoritma seçilecekse ona ilişkin satır kullanılmalıdır.\n",
    "#joblib.dump(model, 'egitilmis_model_GaussianNB.joblib')\n",
    "#joblib.dump(model, 'egitilmis_model_DecisionTree.joblib')"
   ]
  },
  {
   "cell_type": "code",
   "execution_count": 397,
   "id": "aaa8a1f1",
   "metadata": {},
   "outputs": [],
   "source": [
    "# Eğittiğimiz modeli dosyadan yükleyelim.\n",
    "# Eğitilen bir modeli kullanacağımı için yukarıdaki model.fit(X_train, y_train) satırını comment satırı yapmalıyız.\n",
    "model = joblib.load('egitilmis_model_GaussianNB.joblib')\n",
    "#model = joblib.load('egitilmis_model_DecisionTree.joblib')"
   ]
  },
  {
   "cell_type": "code",
   "execution_count": 398,
   "id": "35f235fe",
   "metadata": {},
   "outputs": [],
   "source": [
    "# modeli görsel olarak incelemek için ağaç nesnei ile export ediyorum.\n",
    "# dot uzantılı dosyayı Visual Studio Code ile açabiliriz.\n",
    "# Ağacı görüntülemek için joaompinto.vscode-graphviz eklentisi yüklü olmalıdır.\n",
    "#tree.export_graphviz(model, out_file = 'model_tree.dot', label = 'all', filled = True, rounded = True)"
   ]
  },
  {
   "cell_type": "code",
   "execution_count": 399,
   "id": "3d3655ab",
   "metadata": {},
   "outputs": [],
   "source": [
    "# Test Seti ile tahmin yaptım ayırdığım test setimi (X_test) kullanarak oluşturduğum model \n",
    "# ile tahmin yapalım ve elde ettiğimiz set (y_pred) ile hedef değişken (y_test) test setimizi karşılaştıralım.\n",
    "y_pred = model.predict(X_test)"
   ]
  },
  {
   "cell_type": "code",
   "execution_count": 400,
   "id": "289bc62d",
   "metadata": {},
   "outputs": [
    {
     "name": "stdout",
     "output_type": "stream",
     "text": [
      "Karmaşıklık Matrisi:\n",
      "[[13  0  0]\n",
      " [ 0 16  0]\n",
      " [ 0  0  9]]\n"
     ]
    }
   ],
   "source": [
    "# Tahmin Sonuçlarını Test Sonuçları ile Karşılaştırma\n",
    "# Hata matrisi (confusion matrix) kullanarak modelin başarısını ölçelim:\n",
    "print('Karmaşıklık Matrisi:')\n",
    "hata_matrisi = confusion_matrix(y_test, y_pred)\n",
    "print(hata_matrisi)"
   ]
  },
  {
   "cell_type": "code",
   "execution_count": 401,
   "id": "89edcefa",
   "metadata": {},
   "outputs": [],
   "source": [
    "# Karmaşıklık Matrisini Yorumlayalım\n",
    "# 38 tane test kaydında Setosa sınıfına ait 13 tane kayıt varmış ve hepsi doğru tahmin edilmiş. \n",
    "# 16 tane versicolor varmış bunların tamamı doğru tahmin edilmiş. \n",
    "# 9 tane virginica varmış ve hepsi de başarıyla virginica olarak tahmin edilmiş."
   ]
  },
  {
   "cell_type": "code",
   "execution_count": 412,
   "id": "3cbc59ea",
   "metadata": {},
   "outputs": [
    {
     "name": "stdout",
     "output_type": "stream",
     "text": [
      "Doğruluk :  1.0\n"
     ]
    }
   ],
   "source": [
    "# Başarı Oranı\n",
    "# Bu örneğimizde modelimiz test_size = 0.25 ile GaussianNB sınıfını kullanarak %100 oranında başarı ile çalıştı.\n",
    "print (\"Doğruluk : \", accuracy_score(y_test, y_pred))"
   ]
  },
  {
   "cell_type": "code",
   "execution_count": 410,
   "id": "045a386c",
   "metadata": {},
   "outputs": [
    {
     "data": {
      "text/html": [
       "<div>\n",
       "<style scoped>\n",
       "    .dataframe tbody tr th:only-of-type {\n",
       "        vertical-align: middle;\n",
       "    }\n",
       "\n",
       "    .dataframe tbody tr th {\n",
       "        vertical-align: top;\n",
       "    }\n",
       "\n",
       "    .dataframe thead th {\n",
       "        text-align: right;\n",
       "    }\n",
       "</style>\n",
       "<table border=\"1\" class=\"dataframe\">\n",
       "  <thead>\n",
       "    <tr style=\"text-align: right;\">\n",
       "      <th></th>\n",
       "      <th>Gerçek Değerler</th>\n",
       "      <th>Tahmin Edilen Değerler</th>\n",
       "    </tr>\n",
       "  </thead>\n",
       "  <tbody>\n",
       "    <tr>\n",
       "      <th>0</th>\n",
       "      <td>2</td>\n",
       "      <td>2</td>\n",
       "    </tr>\n",
       "    <tr>\n",
       "      <th>1</th>\n",
       "      <td>1</td>\n",
       "      <td>1</td>\n",
       "    </tr>\n",
       "    <tr>\n",
       "      <th>2</th>\n",
       "      <td>0</td>\n",
       "      <td>0</td>\n",
       "    </tr>\n",
       "    <tr>\n",
       "      <th>3</th>\n",
       "      <td>2</td>\n",
       "      <td>2</td>\n",
       "    </tr>\n",
       "    <tr>\n",
       "      <th>4</th>\n",
       "      <td>0</td>\n",
       "      <td>0</td>\n",
       "    </tr>\n",
       "    <tr>\n",
       "      <th>5</th>\n",
       "      <td>2</td>\n",
       "      <td>2</td>\n",
       "    </tr>\n",
       "    <tr>\n",
       "      <th>6</th>\n",
       "      <td>0</td>\n",
       "      <td>0</td>\n",
       "    </tr>\n",
       "    <tr>\n",
       "      <th>7</th>\n",
       "      <td>1</td>\n",
       "      <td>1</td>\n",
       "    </tr>\n",
       "    <tr>\n",
       "      <th>8</th>\n",
       "      <td>1</td>\n",
       "      <td>1</td>\n",
       "    </tr>\n",
       "    <tr>\n",
       "      <th>9</th>\n",
       "      <td>1</td>\n",
       "      <td>1</td>\n",
       "    </tr>\n",
       "    <tr>\n",
       "      <th>10</th>\n",
       "      <td>2</td>\n",
       "      <td>2</td>\n",
       "    </tr>\n",
       "    <tr>\n",
       "      <th>11</th>\n",
       "      <td>1</td>\n",
       "      <td>1</td>\n",
       "    </tr>\n",
       "    <tr>\n",
       "      <th>12</th>\n",
       "      <td>1</td>\n",
       "      <td>1</td>\n",
       "    </tr>\n",
       "    <tr>\n",
       "      <th>13</th>\n",
       "      <td>1</td>\n",
       "      <td>1</td>\n",
       "    </tr>\n",
       "    <tr>\n",
       "      <th>14</th>\n",
       "      <td>1</td>\n",
       "      <td>1</td>\n",
       "    </tr>\n",
       "    <tr>\n",
       "      <th>15</th>\n",
       "      <td>0</td>\n",
       "      <td>0</td>\n",
       "    </tr>\n",
       "    <tr>\n",
       "      <th>16</th>\n",
       "      <td>1</td>\n",
       "      <td>1</td>\n",
       "    </tr>\n",
       "    <tr>\n",
       "      <th>17</th>\n",
       "      <td>1</td>\n",
       "      <td>1</td>\n",
       "    </tr>\n",
       "    <tr>\n",
       "      <th>18</th>\n",
       "      <td>0</td>\n",
       "      <td>0</td>\n",
       "    </tr>\n",
       "    <tr>\n",
       "      <th>19</th>\n",
       "      <td>0</td>\n",
       "      <td>0</td>\n",
       "    </tr>\n",
       "    <tr>\n",
       "      <th>20</th>\n",
       "      <td>2</td>\n",
       "      <td>2</td>\n",
       "    </tr>\n",
       "    <tr>\n",
       "      <th>21</th>\n",
       "      <td>1</td>\n",
       "      <td>1</td>\n",
       "    </tr>\n",
       "    <tr>\n",
       "      <th>22</th>\n",
       "      <td>0</td>\n",
       "      <td>0</td>\n",
       "    </tr>\n",
       "    <tr>\n",
       "      <th>23</th>\n",
       "      <td>0</td>\n",
       "      <td>0</td>\n",
       "    </tr>\n",
       "    <tr>\n",
       "      <th>24</th>\n",
       "      <td>2</td>\n",
       "      <td>2</td>\n",
       "    </tr>\n",
       "    <tr>\n",
       "      <th>25</th>\n",
       "      <td>0</td>\n",
       "      <td>0</td>\n",
       "    </tr>\n",
       "    <tr>\n",
       "      <th>26</th>\n",
       "      <td>0</td>\n",
       "      <td>0</td>\n",
       "    </tr>\n",
       "    <tr>\n",
       "      <th>27</th>\n",
       "      <td>1</td>\n",
       "      <td>1</td>\n",
       "    </tr>\n",
       "    <tr>\n",
       "      <th>28</th>\n",
       "      <td>1</td>\n",
       "      <td>1</td>\n",
       "    </tr>\n",
       "    <tr>\n",
       "      <th>29</th>\n",
       "      <td>0</td>\n",
       "      <td>0</td>\n",
       "    </tr>\n",
       "    <tr>\n",
       "      <th>30</th>\n",
       "      <td>2</td>\n",
       "      <td>2</td>\n",
       "    </tr>\n",
       "    <tr>\n",
       "      <th>31</th>\n",
       "      <td>1</td>\n",
       "      <td>1</td>\n",
       "    </tr>\n",
       "    <tr>\n",
       "      <th>32</th>\n",
       "      <td>0</td>\n",
       "      <td>0</td>\n",
       "    </tr>\n",
       "    <tr>\n",
       "      <th>33</th>\n",
       "      <td>2</td>\n",
       "      <td>2</td>\n",
       "    </tr>\n",
       "    <tr>\n",
       "      <th>34</th>\n",
       "      <td>2</td>\n",
       "      <td>2</td>\n",
       "    </tr>\n",
       "    <tr>\n",
       "      <th>35</th>\n",
       "      <td>1</td>\n",
       "      <td>1</td>\n",
       "    </tr>\n",
       "    <tr>\n",
       "      <th>36</th>\n",
       "      <td>0</td>\n",
       "      <td>0</td>\n",
       "    </tr>\n",
       "    <tr>\n",
       "      <th>37</th>\n",
       "      <td>1</td>\n",
       "      <td>1</td>\n",
       "    </tr>\n",
       "  </tbody>\n",
       "</table>\n",
       "</div>"
      ],
      "text/plain": [
       "    Gerçek Değerler  Tahmin Edilen Değerler\n",
       "0                 2                       2\n",
       "1                 1                       1\n",
       "2                 0                       0\n",
       "3                 2                       2\n",
       "4                 0                       0\n",
       "5                 2                       2\n",
       "6                 0                       0\n",
       "7                 1                       1\n",
       "8                 1                       1\n",
       "9                 1                       1\n",
       "10                2                       2\n",
       "11                1                       1\n",
       "12                1                       1\n",
       "13                1                       1\n",
       "14                1                       1\n",
       "15                0                       0\n",
       "16                1                       1\n",
       "17                1                       1\n",
       "18                0                       0\n",
       "19                0                       0\n",
       "20                2                       2\n",
       "21                1                       1\n",
       "22                0                       0\n",
       "23                0                       0\n",
       "24                2                       2\n",
       "25                0                       0\n",
       "26                0                       0\n",
       "27                1                       1\n",
       "28                1                       1\n",
       "29                0                       0\n",
       "30                2                       2\n",
       "31                1                       1\n",
       "32                0                       0\n",
       "33                2                       2\n",
       "34                2                       2\n",
       "35                1                       1\n",
       "36                0                       0\n",
       "37                1                       1"
      ]
     },
     "execution_count": 410,
     "metadata": {},
     "output_type": "execute_result"
    }
   ],
   "source": [
    "# @link https://towardsdatascience.com/machine-learning-basics-naive-bayes-classification-964af6f2a965\n",
    "# Gerçek Değerlerin Öngörülen Değerlerle Karşılaştırılması\n",
    "# Bu adımda, hem orijinal Test setinin (y_test) hem de tahmin edilen sonuçların (y_pred) \n",
    "# sınıflandırılmış değerlerini karşılaştırmak için bir Pandas DataFrame oluşturulur.\n",
    "df = pd.DataFrame({'Gerçek Değerler':y_test, 'Tahmin Edilen Değerler':y_pred})\n",
    "df"
   ]
  },
  {
   "cell_type": "code",
   "execution_count": 411,
   "id": "65c417a7",
   "metadata": {},
   "outputs": [
    {
     "data": {
      "text/plain": [
       "([], [])"
      ]
     },
     "execution_count": 411,
     "metadata": {},
     "output_type": "execute_result"
    },
    {
     "data": {
      "image/png": "[encoded data removed]",
      "text/plain": [
       "<Figure size 576x432 with 1 Axes>"
      ]
     },
     "metadata": {},
     "output_type": "display_data"
    }
   ],
   "source": [
    "plt.figure(2, figsize=(8, 6))\n",
    "plt.clf()\n",
    "\n",
    "# Plot the training points\n",
    "plt.scatter(X[:, 0], X[:, 1], c=y, cmap=plt.cm.Set1, edgecolor='k')\n",
    "plt.xlabel('Sepal length')\n",
    "plt.ylabel('Sepal width')\n",
    "\n",
    "plt.xticks(())\n",
    "plt.yticks(())"
   ]
  }
 ],
 "metadata": {
  "kernelspec": {
   "display_name": "Python 3",
   "language": "python",
   "name": "python3"
  },
  "language_info": {
   "codemirror_mode": {
    "name": "ipython",
    "version": 3
   },
   "file_extension": ".py",
   "mimetype": "text/x-python",
   "name": "python",
   "nbconvert_exporter": "python",
   "pygments_lexer": "ipython3",
   "version": "3.9.5"
  }
 },
 "nbformat": 4,
 "nbformat_minor": 5
}
